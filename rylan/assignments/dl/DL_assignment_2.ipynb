{
  "nbformat": 4,
  "nbformat_minor": 0,
  "metadata": {
    "colab": {
      "name": "DL_cw2_questions_revised.ipynb",
      "version": "0.3.2",
      "views": {},
      "default_view": {},
      "provenance": [
        {
          "file_id": "1GRqxUT0zGus3fN8sE4jZwJGWgazrkO7G",
          "timestamp": 1516294745427
        },
        {
          "file_id": "1yFj1LZ7MPleNtBFX6NS9i1zwZ74huXrQ",
          "timestamp": 1516294640767
        }
      ],
      "collapsed_sections": []
    },
    "kernelspec": {
      "name": "python2",
      "display_name": "Python 2"
    }
  },
  "cells": [
    {
      "metadata": {
        "id": "GHl6N3Xfkctm",
        "colab_type": "text"
      },
      "cell_type": "markdown",
      "source": [
        "# Homework 2\n",
        "\n",
        "**Start date:** *29th January 2018*\n",
        "\n",
        "**Due date:** *11th February 2018, 11:55 pm*\n",
        "\n",
        "## How to Submit\n",
        "\n",
        "When you have completed the exercises and everything has finsihed running, click on 'File' in the menu-bar and then 'Download .ipynb'. This file must be submitted to Moodle named as **studentnumber_DL_hw2.ipynb** before the deadline above.\n",
        "\n",
        "Also send a **sharable link** to the notebook at the following email: ucl.coursework.submit@gmail.com. You can also make it sharable via link to everyone, up to you.\n",
        "\n",
        "### IMPORTANT\n",
        "Please make sure you submission includes **all results/plots/tables** required for grading. We will not re-run your code.\n",
        "\n",
        "## The Data\n",
        "\n",
        "### Handwritten Digit Recognition Dataset (MNIST)\n",
        "\n",
        "In this assignment we will be using the [MNIST digit dataset](https://yann.lecun.com/exdb/mnist/). \n",
        "\n",
        "The dataset contains images of hand-written digits ($0-9$), and the corresponding labels. \n",
        "\n",
        "The images have a resolution of $28\\times 28$ pixels.\n",
        "\n",
        "### The MNIST Dataset in TensorFlow\n",
        "\n",
        "You can use the tensorflow build-in functionality to download and import the dataset into python (see *Setup* section below). But note that this will be the only usage of TensorFlow in this assignment.\n",
        "\n",
        "## The Assignment\n",
        "\n",
        "### Objectives\n",
        "\n",
        "This assignment will be mirroring the first assignment (DL_hw1), but this time you are **not allowed to use any of the Tensorflow functionality for specifing nor optimizing** your neural network models. \n",
        "You will now use your **own implementations** of different neural network models (labelled Model 1-4, and described in the corresponding sections of the Colab).\n",
        "\n",
        "As before, you will train these models to classify hand written digits from the Mnist dataset. \n",
        "\n",
        "Keep in mind, the purpose of this exercise is to implement and optimize your own neural networks\n",
        "architectures without the toolbox/library tailored to do so. This also means, in order to train and evaluate your models, you will need to implement your own optimization procedure. You are to use the same cross-entropy loss as before and your own implementation of SGD.\n",
        "\n",
        "#### Additional instruction:\n",
        "\n",
        "**Do not use any other libraries than the ones provided in the imports cell.** You should be able to do everything via *numpy* (especially for the convolutional layer, rely on the in-built matrix/tensor multiplication that numpy offers).  \n",
        "\n",
        "There are a few questions at the end of the colab. **Before doing any coding, please take look at Question 1** -- this should help you with the implementations, especially the optimization part.\n",
        "\n",
        "\n",
        "### Variable Initialization\n",
        "\n",
        "Initialize the variables containing the parameters using [Xavier initialization](http://proceedings.mlr.press/v9/glorot10a.html).\n",
        "\n",
        "### Hyper-parameters\n",
        "\n",
        "For each of these models you will be requested to run experiments with different hyper-parameters.\n",
        "\n",
        "More specifically, you will be requested to try 3 sets of hyper-parameters per model, and report the resulting model accuracy.\n",
        "\n",
        "Each combination of hyper-parameter will specify how to set each of the following:\n",
        "\n",
        "- **num_epochs**: Number of iterations through the training section of the dataset [*a positive integer*].\n",
        "\n",
        "- **learning_rate**: Learning rate used by the gradient descent optimizer [*a scalar between 0 and 1*]\n",
        "\n",
        "In all experiments use a *batch_size* of 100.\n",
        "\n",
        "### Loss function\n",
        "All models, should be trained as to minimize the **cross-entropy loss** function:\n",
        "$$\n",
        "\\mathrm{loss}\n",
        "~~=~~\n",
        "-\\sum_{i=1}^N \\log p(y_i|x_i, \\theta)\n",
        "~~=~~\n",
        "-\\sum_{i=1}^N \\log{ \\underbrace{\\left(\\frac{\\exp(z_{i}[y_i])}{\\sum_{c=1}^{10} \\exp(z_{i}[c])}\\right)}_{\\text{softmax output}}}\n",
        "~~=~~\n",
        "\\sum_{i=1}^N \\left( -z_{i}[y_i] + \\log{\\left( \\sum_{c=1}^{10} \\exp(z_{i}[c]) \\right)} \\right)$$\n",
        "where $z \\in \\mathbb{R}^{10}$ is the input to the softmax layer and $z{[c]}$ denotes the $c$-th entry of vector $z$. And $i$ is a index for the dataset $\\{(x_i, y_i)\\}_{i=1}^N$.\n",
        "\n",
        "\n",
        "### Optimization\n",
        "\n",
        "Use **stochastic gradient descent (SGD)** for optimizing the loss function. Sum over the batch.\n",
        "\n",
        "\n",
        "### Training and Evaluation\n",
        "\n",
        "The tensorflow built-in functionality for downloading and importing the dataset into python returns a Datasets object.\n",
        "\n",
        "This object will have three attributes: \n",
        "\n",
        "- train\n",
        "\n",
        "- validation\n",
        "\n",
        "- test\n",
        "\n",
        "Use only the **train** data in order to optimize the model.\n",
        "\n",
        "Use *datasets.train.next_batch(100)* in order to sample mini-batches of data.\n",
        "\n",
        "Every 20000 training samples (i.e. every 200 updates to the model), interrupt training and measure the accuracy of the model, \n",
        "\n",
        "each time evaluate the accuracy of the model both on 20% of the **train** set and on the entire **test** set.\n",
        "\n",
        "### Reporting\n",
        "\n",
        "For each model i, you will collect the learning curves associated to each combination of hyper-parameters.\n",
        "\n",
        "Use the utility function `plot_learning_curves` to plot these learning curves,\n",
        "\n",
        "and the and utility function `plot_summary_table` to generate a summary table of results.\n",
        "\n",
        "For each run collect the train and test curves in a tuple, together with the hyper-parameters.\n",
        "\n",
        "    experiments_task_i = [\n",
        "\n",
        "       (num_epochs_1, learning_rate_1), train_accuracy_1, test_accuracy_1),\n",
        "    \n",
        "       (num_epochs_2, learning_rate_2), train_accuracy_2, test_accuracy_2),\n",
        "    \n",
        "       (num_epochs_3, learning_rate_3), train_accuracy_3, test_accuracy_3)]\n",
        "\n",
        "\n",
        "### Hint: \n",
        "\n",
        "Remind yourselves of the chain rule and read through the lecture notes on back-propagation (computing \n",
        "the gradients by recursively applying the chain rule). This is a general procedure that applies to all model\n",
        "architectures you will have to code in the following steps. Thus, you are strongly encourage to implement an\n",
        "optimization procedure that generalizes and can be re-used to train all your models. Recall the only things\n",
        "that you will need for each layer are: \n",
        "\n",
        "(i) the gradients of layer with respect to its input\n",
        "\n",
        "(ii) the gradients with respect to its parameters, if any.\n",
        "\n",
        "(See Question 1).\n",
        "\n",
        "\n",
        "Also from the previous assignment, you should have a good idea of what to expect, both terms of behavior and relative performance. (To keep everything comparable, we kept all the hyperparameters and reporting the same)."
      ]
    },
    {
      "metadata": {
        "id": "0wg-OYIMm8cW",
        "colab_type": "text"
      },
      "cell_type": "markdown",
      "source": [
        "# Imports and utility functions (do not modify!)"
      ]
    },
    {
      "metadata": {
        "id": "rPYnfzQfltxp",
        "colab_type": "code",
        "colab": {
          "autoexec": {
            "startup": false,
            "wait_interval": 0
          }
        }
      },
      "cell_type": "code",
      "source": [
        "# Import useful libraries.\n",
        "import matplotlib.pyplot as plt\n",
        "from tensorflow.examples.tutorials.mnist import input_data\n",
        "import numpy as np\n",
        "\n",
        "# Global variables.\n",
        "log_period_samples = 20000\n",
        "batch_size = 100\n",
        "\n",
        "# Import dataset with one-hot encoding of the class labels.\n",
        "def get_data():\n",
        "  return input_data.read_data_sets(\"MNIST_data/\", one_hot=True)\n",
        "\n",
        "# Placeholders to feed train and test data into the graph.\n",
        "# Since batch dimension is 'None', we can reuse them both for train and eval.\n",
        "def get_placeholders():\n",
        "  x = tf.placeholder(tf.float32, [None, 784])\n",
        "  y_ = tf.placeholder(tf.float32, [None, 10])\n",
        "  return x, y_\n",
        "\n",
        "# Plot learning curves of experiments\n",
        "def plot_learning_curves(experiment_data):\n",
        "  # Generate figure.\n",
        "  fig, axes = plt.subplots(3, 4, figsize=(22,12))\n",
        "  st = fig.suptitle(\n",
        "      \"Learning Curves for all Tasks and Hyper-parameter settings\",\n",
        "      fontsize=\"x-large\")\n",
        "  # Plot all learning curves.\n",
        "  for i, results in enumerate(experiment_data):\n",
        "    for j, (setting, train_accuracy, test_accuracy) in enumerate(results):\n",
        "      # Plot.\n",
        "      xs = [x * log_period_samples for x in range(1, len(train_accuracy)+1)]\n",
        "      axes[j, i].plot(xs, train_accuracy, label='train_accuracy')\n",
        "      axes[j, i].plot(xs, test_accuracy, label='test_accuracy')\n",
        "      # Prettify individual plots.\n",
        "      axes[j, i].ticklabel_format(style='sci', axis='x', scilimits=(0,0))\n",
        "      axes[j, i].set_xlabel('Number of samples processed')\n",
        "      axes[j, i].set_ylabel('Epochs: {}, Learning rate: {}.  Accuracy'.format(*setting))\n",
        "      axes[j, i].set_title('Task {}'.format(i + 1))\n",
        "      axes[j, i].legend()\n",
        "  # Prettify overall figure.\n",
        "  plt.tight_layout()\n",
        "  st.set_y(0.95)\n",
        "  fig.subplots_adjust(top=0.91)\n",
        "  plt.show()\n",
        "\n",
        "# Generate summary table of results.\n",
        "def plot_summary_table(experiment_data):\n",
        "  # Fill Data.\n",
        "  cell_text = []\n",
        "  rows = []\n",
        "  columns = ['Setting 1', 'Setting 2', 'Setting 3']\n",
        "  for i, results in enumerate(experiment_data):\n",
        "    rows.append('Model {}'.format(i + 1))\n",
        "    cell_text.append([])\n",
        "    for j, (setting, train_accuracy, test_accuracy) in enumerate(results):\n",
        "      cell_text[i].append(test_accuracy[-1])\n",
        "  # Generate Table.\n",
        "  fig=plt.figure(frameon=False)\n",
        "  ax = plt.gca()\n",
        "  the_table = ax.table(\n",
        "      cellText=cell_text,\n",
        "      rowLabels=rows,\n",
        "      colLabels=columns,\n",
        "      loc='center')\n",
        "  the_table.scale(1, 4)\n",
        "  # Prettify.\n",
        "  ax.patch.set_facecolor('None')\n",
        "  ax.xaxis.set_visible(False)\n",
        "  ax.yaxis.set_visible(False)"
      ],
      "execution_count": 0,
      "outputs": []
    },
    {
      "metadata": {
        "id": "-52fO1Axmd9B",
        "colab_type": "text"
      },
      "cell_type": "markdown",
      "source": [
        "# Model 1 (10 pts)\n",
        "\n",
        "### Model\n",
        "\n",
        "Train a neural network model consisting of 1 linear layer, followed by a softmax:\n",
        "\n",
        "(input $\\rightarrow$ linear layer $\\rightarrow$ softmax $\\rightarrow$ class probabilities)\n",
        "\n",
        "### Hyper-parameters\n",
        "\n",
        "Train the model with three different hyper-parameter settings:\n",
        "\n",
        "- *num_epochs*=5, *learning_rate*=0.0001\n",
        "\n",
        "- *num_epochs*=5, *learning_rate*=0.005\n",
        "\n",
        "- *num_epochs*=5, *learning_rate*=0.1"
      ]
    },
    {
      "metadata": {
        "id": "iIT9lwPPmpbO",
        "colab_type": "code",
        "colab": {
          "autoexec": {
            "startup": false,
            "wait_interval": 0
          }
        }
      },
      "cell_type": "code",
      "source": [
        "# CAREFUL: Running this CL resets the experiments_task1 dictionary where results should be stored.\n",
        "# Store results of runs with different configurations in a dictionary.\n",
        "# Use a tuple (num_epochs, learning_rate) as keys, and a tuple (training_accuracy, testing_accuracy)\n",
        "experiments_task1 = []\n",
        "settings = [(5, 0.0001), (5, 0.005), (5, 0.1)]"
      ],
      "execution_count": 0,
      "outputs": []
    },
    {
      "metadata": {
        "id": "r9t84PdvyBmP",
        "colab_type": "code",
        "colab": {
          "autoexec": {
            "startup": false,
            "wait_interval": 0
          }
        }
      },
      "cell_type": "code",
      "source": [
        "print('Training Model 1')\n",
        "\n",
        "# Train Model 1 with the different hyper-parameter settings.\n",
        "for (num_epochs, learning_rate) in settings:\n",
        "\n",
        "  # Reset graph, recreate placeholders and dataset.\n",
        "  mnist = get_data()\n",
        "  eval_mnist = get_data()\n",
        "\n",
        "  #####################################################\n",
        "  # Define model, loss, update and evaluation metric. #\n",
        "  #####################################################\n",
        "\n",
        "  # Train.\n",
        "  i, train_accuracy, test_accuracy = 0, [], []\n",
        "  log_period_updates = int(log_period_samples / batch_size)\n",
        "  while mnist.train.epochs_completed < num_epochs:\n",
        "\n",
        "    # Update.\n",
        "    i += 1\n",
        "    batch_xs, batch_ys = mnist.train.next_batch(batch_size)\n",
        "\n",
        "    #################\n",
        "    # Training step #\n",
        "    #################\n",
        "\n",
        "    # Periodically evaluate.\n",
        "    if i % log_period_updates == 0:\n",
        "\n",
        "      #####################################\n",
        "      # Compute and store train accuracy. #\n",
        "      #####################################\n",
        "\n",
        "      #####################################\n",
        "      # Compute and store test accuracy.  #\n",
        "      #####################################\n",
        "\n",
        "  experiments_task1.append(\n",
        "      ((num_epochs, learning_rate), train_accuracy, test_accuracy))"
      ],
      "execution_count": 0,
      "outputs": []
    },
    {
      "metadata": {
        "id": "7jHmjyz_jFr9",
        "colab_type": "text"
      },
      "cell_type": "markdown",
      "source": [
        "# Model 2 (15 pts)\n",
        "\n",
        "1 hidden layer (32 units) with a ReLU non-linearity, followed by a softmax.\n",
        "\n",
        "(input $\\rightarrow$ non-linear layer $\\rightarrow$ linear layer $\\rightarrow$ softmax $\\rightarrow$ class probabilities)\n",
        "\n",
        "### Hyper-parameters\n",
        "\n",
        "Train the model with three different hyper-parameter settings:\n",
        "\n",
        "- *num_epochs*=15, *learning_rate*=0.0001\n",
        "\n",
        "- *num_epochs*=15, *learning_rate*=0.005\n",
        "\n",
        "- *num_epochs*=15, *learning_rate*=0.1 "
      ]
    },
    {
      "metadata": {
        "id": "oGAT8ewLeyt_",
        "colab_type": "code",
        "colab": {
          "autoexec": {
            "startup": false,
            "wait_interval": 0
          }
        }
      },
      "cell_type": "code",
      "source": [
        "# CAREFUL: Running this CL resets the experiments_task1 dictionary where results should be stored.\n",
        "# Store results of runs with different configurations in a dictionary.\n",
        "# Use a tuple (num_epochs, learning_rate) as keys, and a tuple (training_accuracy, testing_accuracy)\n",
        "experiments_task2 = []\n",
        "settings = [(15, 0.0001), (15, 0.005), (15, 0.1)]"
      ],
      "execution_count": 0,
      "outputs": []
    },
    {
      "metadata": {
        "id": "g-JjlA-Wh3hS",
        "colab_type": "code",
        "colab": {
          "autoexec": {
            "startup": false,
            "wait_interval": 0
          }
        }
      },
      "cell_type": "code",
      "source": [
        "print('Training Model 2')\n",
        "\n",
        "# Train Model 1 with the different hyper-parameter settings.\n",
        "for (num_epochs, learning_rate) in settings:\n",
        "  \n",
        "  mnist = get_data()  # use for training.\n",
        "  eval_mnist = get_data()  # use for evaluation.\n",
        "\n",
        "  #####################################################\n",
        "  # Define model, loss, update and evaluation metric. #\n",
        "  #####################################################\n",
        "\n",
        "  # Train.\n",
        "  i, train_accuracy, test_accuracy = 0, [], []\n",
        "  log_period_updates = int(log_period_samples / batch_size)\n",
        "  while mnist.train.epochs_completed < num_epochs:\n",
        "\n",
        "    # Update.\n",
        "    i += 1\n",
        "    batch_xs, batch_ys = mnist.train.next_batch(batch_size)\n",
        "\n",
        "    #################\n",
        "    # Training step #\n",
        "    #################\n",
        "\n",
        "    # Periodically evaluate.\n",
        "    if i % log_period_updates == 0:\n",
        "\n",
        "      #####################################\n",
        "      # Compute and store train accuracy. #\n",
        "      #####################################\n",
        "\n",
        "      #####################################\n",
        "      # Compute and store test accuracy.  #\n",
        "      #####################################\n",
        "  \n",
        "  experiments_task2.append(\n",
        "      ((num_epochs, learning_rate), train_accuracy, test_accuracy))"
      ],
      "execution_count": 0,
      "outputs": []
    },
    {
      "metadata": {
        "id": "ku6yREFUjPM2",
        "colab_type": "text"
      },
      "cell_type": "markdown",
      "source": [
        "# Model 3 (15 pts)\n",
        "\n",
        "2 hidden layers (32 units) each, with ReLU non-linearity, followed by a softmax.\n",
        "\n",
        "(input $\\rightarrow$ non-linear layer $\\rightarrow$ non-linear layer $\\rightarrow$ linear layer $\\rightarrow$ softmax $\\rightarrow$ class probabilities)\n",
        "\n",
        "\n",
        "### Hyper-parameters\n",
        "\n",
        "Train the model with three different hyper-parameter settings:\n",
        "\n",
        "- *num_epochs*=5, *learning_rate*=0.003\n",
        "\n",
        "- *num_epochs*=40, *learning_rate*=0.003\n",
        "\n",
        "- *num_epochs*=40, *learning_rate*=0.05"
      ]
    },
    {
      "metadata": {
        "id": "vGzx1NypyMi6",
        "colab_type": "code",
        "colab": {
          "autoexec": {
            "startup": false,
            "wait_interval": 0
          }
        }
      },
      "cell_type": "code",
      "source": [
        "# CAREFUL: Running this CL resets the experiments_task1 dictionary where results should be stored.\n",
        "# Store results of runs with different configurations in a dictionary.\n",
        "# Use a tuple (num_epochs, learning_rate) as keys, and a tuple (training_accuracy, testing_accuracy)\n",
        "experiments_task3 = []\n",
        "settings = [(5, 0.003), (40, 0.003), (40, 0.05)]"
      ],
      "execution_count": 0,
      "outputs": []
    },
    {
      "metadata": {
        "id": "z16Nvf35yMlR",
        "colab_type": "code",
        "colab": {
          "autoexec": {
            "startup": false,
            "wait_interval": 0
          }
        }
      },
      "cell_type": "code",
      "source": [
        "print('Training Model 3')\n",
        "\n",
        "# Train Model 1 with the different hyper-parameter settings.\n",
        "for (num_epochs, learning_rate) in settings:\n",
        "  \n",
        "  mnist = get_data()  # use for training.\n",
        "  eval_mnist = get_data()  # use for evaluation.\n",
        "\n",
        "  #####################################################\n",
        "  # Define model, loss, update and evaluation metric. #\n",
        "  #####################################################\n",
        "\n",
        "  # Train.\n",
        "  i, train_accuracy, test_accuracy = 0, [], []\n",
        "  log_period_updates = int(log_period_samples / batch_size)\n",
        "  while mnist.train.epochs_completed < num_epochs:\n",
        "\n",
        "    # Update.\n",
        "    i += 1\n",
        "    batch_xs, batch_ys = mnist.train.next_batch(batch_size)\n",
        "\n",
        "    #################\n",
        "    # Training step #\n",
        "    #################\n",
        "\n",
        "    # Periodically evaluate.\n",
        "    if i % log_period_updates == 0:\n",
        "\n",
        "      #####################################\n",
        "      # Compute and store train accuracy. #\n",
        "      #####################################\n",
        "\n",
        "      #####################################\n",
        "      # Compute and store test accuracy.  #\n",
        "      #####################################\n",
        "\n",
        "  experiments_task3.append(\n",
        "      ((num_epochs, learning_rate), train_accuracy, test_accuracy))"
      ],
      "execution_count": 0,
      "outputs": []
    },
    {
      "metadata": {
        "id": "XdldRURrjiAd",
        "colab_type": "text"
      },
      "cell_type": "markdown",
      "source": [
        "# Model 4 (20 pts)\n",
        "\n",
        "### Model\n",
        "3 layer convolutional model (2 convolutional layers followed by max pooling) + 1 non-linear layer (32 units), followed by softmax. \n",
        "\n",
        "(input(28x28) $\\rightarrow$ conv(3x3x8) + maxpool(2x2) $\\rightarrow$ conv(3x3x8) + maxpool(2x2) $\\rightarrow$ flatten $\\rightarrow$ non-linear $\\rightarrow$ linear layer $\\rightarrow$ softmax $\\rightarrow$ class probabilities)\n",
        "\n",
        "\n",
        "- Use *padding = 'SAME'* for both the convolution and the max pooling layers. \n",
        "\n",
        "- Employ plain convolution (no stride) and for max pooling operations use 2x2 sliding windows, with no overlapping pixels (note: this operation will down-sample the input image by 2x2).\n",
        "\n",
        "### Hyper-parameters\n",
        "\n",
        "Train the model with three different hyper-parameter settings:\n",
        "\n",
        "- num_epochs=5, learning_rate=0.01\n",
        "\n",
        "- num_epochs=10, learning_rate=0.001\n",
        "\n",
        "- num_epochs=20, learning_rate=0.001 \n"
      ]
    },
    {
      "metadata": {
        "id": "TOUd73i2yQS6",
        "colab_type": "code",
        "colab": {
          "autoexec": {
            "startup": false,
            "wait_interval": 0
          }
        }
      },
      "cell_type": "code",
      "source": [
        "# CAREFUL: Running this CL resets the experiments_task1 dictionary where results should be stored.\n",
        "# Store results of runs with different configurations in a dictionary.\n",
        "# Use a tuple (num_epochs, learning_rate) as keys, and a tuple (training_accuracy, testing_accuracy)\n",
        "experiments_task4 = []\n",
        "settings = [(5, 0.01), (10, 0.001), (20, 0.001)]"
      ],
      "execution_count": 0,
      "outputs": []
    },
    {
      "metadata": {
        "id": "gFtzPQWGySM3",
        "colab_type": "code",
        "colab": {
          "autoexec": {
            "startup": false,
            "wait_interval": 0
          }
        }
      },
      "cell_type": "code",
      "source": [
        "print('Training Model 4')\n",
        "\n",
        "# Train Model 1 with the different hyper-parameter settings.\n",
        "for (num_epochs, learning_rate) in settings:\n",
        "  \n",
        "  mnist = get_data()  # use for training.\n",
        "  eval_mnist = get_data()  # use for evaluation.\n",
        "\n",
        "  #####################################################\n",
        "  # Define model, loss, update and evaluation metric. #\n",
        "  #####################################################\n",
        "\n",
        "  # Train.\n",
        "  i, train_accuracy, test_accuracy = 0, [], []\n",
        "  log_period_updates = int(log_period_samples / batch_size)\n",
        "  while mnist.train.epochs_completed < num_epochs:\n",
        "\n",
        "    # Update.\n",
        "    i += 1\n",
        "    batch_xs, batch_ys = mnist.train.next_batch(batch_size)\n",
        "\n",
        "    #################\n",
        "    # Training step #\n",
        "    #################\n",
        "\n",
        "    # Periodically evaluate.\n",
        "    if i % log_period_updates == 0:\n",
        "\n",
        "      #####################################\n",
        "      # Compute and store train accuracy. #\n",
        "      #####################################\n",
        "\n",
        "      #####################################\n",
        "      # Compute and store test accuracy.  #\n",
        "      #####################################\n",
        "\n",
        "  experiments_task4.append(\n",
        "      ((num_epochs, learning_rate), train_accuracy, test_accuracy))"
      ],
      "execution_count": 0,
      "outputs": []
    },
    {
      "metadata": {
        "id": "y4mQKAVGkezs",
        "colab_type": "text"
      },
      "cell_type": "markdown",
      "source": [
        "# Results"
      ]
    },
    {
      "metadata": {
        "id": "fW1JBX_XCs4-",
        "colab_type": "code",
        "colab": {
          "autoexec": {
            "startup": false,
            "wait_interval": 0
          }
        }
      },
      "cell_type": "code",
      "source": [
        "plot_learning_curves([experiments_task1, experiments_task2, experiments_task3, experiments_task4])"
      ],
      "execution_count": 0,
      "outputs": []
    },
    {
      "metadata": {
        "id": "hT0JYzKt8PgH",
        "colab_type": "code",
        "colab": {
          "autoexec": {
            "startup": false,
            "wait_interval": 0
          }
        }
      },
      "cell_type": "code",
      "source": [
        "plot_summary_table([experiments_task1, experiments_task2, experiments_task3, experiments_task4])"
      ],
      "execution_count": 0,
      "outputs": []
    },
    {
      "metadata": {
        "id": "ql4MBS73k-F-",
        "colab_type": "text"
      },
      "cell_type": "markdown",
      "source": [
        "# Questions"
      ]
    },
    {
      "metadata": {
        "id": "gf5N75fFxLco",
        "colab_type": "text"
      },
      "cell_type": "markdown",
      "source": [
        "###Q1 (32 pts): Compute the following derivatives \n",
        "Show all intermediate steps in the derivation (in markdown below). Provide the final results in vector/matrix/tensor form whenever appropiate.\n",
        "\n",
        "1. [5 pts] Give the cross-entropy loss above, compute the derivative of the loss function with respect to the scores $z$ (the input to the softmax layer). \n",
        "$$\\frac{\\partial loss}{\\partial z} = ?$$\n",
        "\n",
        "2. [12 pts] Consider the first model (M1: linear + softmax). Compute the derivative of the loss with respect to\n",
        "  * the input $x$\n",
        "  $$\\frac{\\partial loss}{\\partial x} = ?$$\n",
        "  * the parameters of the linear layer: weights $W$ and bias $b$\n",
        "  $$\\frac{\\partial loss}{\\partial W} = ?$$\n",
        "  $$\\frac{\\partial loss}{\\partial b} = ?$$\n",
        "  \n",
        "3. [15 pts] Compute the derivative of a convolution layer wrt. to its parameters W and wrt. to its input (4-dim tensor). Assume a filter of size H x W x D, and stride 1.\n",
        "  $$\\frac{\\partial loss}{\\partial W} = ?$$\n"
      ]
    },
    {
      "metadata": {
        "id": "iKoS766H5Mxy",
        "colab_type": "text"
      },
      "cell_type": "markdown",
      "source": [
        "### A1: (Your answer here)"
      ]
    },
    {
      "metadata": {
        "id": "451qqgDH1iU5",
        "colab_type": "text"
      },
      "cell_type": "markdown",
      "source": [
        "### Q2 (8 pts): How do the results compare to the ones you got when implementing these models in TensorFlow? \n",
        "1. [4 pts] For each of the models, please comment on any differences or discrepancies in results -- runtime, performance and stability in training and final performance. (This would be the place to justify design decisions in the implementation and their effects).\n",
        "2. [2 pts] Which of the models show under-fitting?\n",
        "3. [2 pts] Which of the models show over-fitting?"
      ]
    },
    {
      "metadata": {
        "id": "nUdkAok05YKJ",
        "colab_type": "text"
      },
      "cell_type": "markdown",
      "source": [
        "### A2: (Your answer here)"
      ]
    },
    {
      "metadata": {
        "id": "juVwDBIwWb9v",
        "colab_type": "code",
        "colab": {
          "autoexec": {
            "startup": false,
            "wait_interval": 0
          }
        }
      },
      "cell_type": "code",
      "source": [
        ""
      ],
      "execution_count": 0,
      "outputs": []
    }
  ]
}